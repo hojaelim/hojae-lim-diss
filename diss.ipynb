{
 "cells": [
  {
   "cell_type": "markdown",
   "metadata": {},
   "source": [
    "# PINN Implementation\n",
    "This Jupyter notebook attempts to incorporate a general PINN algorithm, generally made from different sources that I have found, focussing on the development of the neural network using PyTorch.\n",
    "All papers are to be accurately cited for bits of codes that I have extracted. "
   ]
  },
  {
   "cell_type": "markdown",
   "metadata": {},
   "source": [
    "## Environment Setup"
   ]
  },
  {
   "cell_type": "code",
   "execution_count": 2,
   "metadata": {},
   "outputs": [
    {
     "name": "stderr",
     "output_type": "stream",
     "text": [
      "Using backend: pytorch\n",
      "Other supported backends: tensorflow.compat.v1, tensorflow, jax, paddle.\n",
      "paddle supports more examples now and is recommended.\n"
     ]
    },
    {
     "name": "stdout",
     "output_type": "stream",
     "text": [
      "No backend selected.\n",
      "Finding available backend...\n",
      "Found pytorch\n",
      "Setting the default backend to \"pytorch\". You can change it in the ~/.deepxde/config.json file or export the DDE_BACKEND environment variable. Valid options are: tensorflow.compat.v1, tensorflow, pytorch, jax, paddle (all lowercase)\n"
     ]
    }
   ],
   "source": [
    "from PIL import Image\n",
    "\n",
    "import numpy as np\n",
    "import torch\n",
    "import torch.nn as nn\n",
    "import matplotlib.pyplot as plt\n",
    "import deepxde as dde\n",
    "\n",
    "torch.manual_seed(1234)\n",
    "np.random.seed(1234)\n"
   ]
  },
  {
   "cell_type": "markdown",
   "metadata": {},
   "source": [
    "## Part I - Solving the 1D Poisson Equation\n",
    "We will first solve the 1D Poisson equation through training and compare it with the FDM method and the actual solution. This part comes from the paper regarding GRINN."
   ]
  },
  {
   "cell_type": "code",
   "execution_count": null,
   "metadata": {},
   "outputs": [],
   "source": [
    "## We test the solution of the POISSON's EQN\n",
    "#Set data type\n",
    "DTYPE='float32'\n",
    "torch.set_default_dtype(DTYPE)\n",
    "\n",
    "lam = 1.0          # one wavelength\n",
    "const = 1 ## we set 4 pi G  tp 1\n",
    "num_of_waves = 2\n",
    "\n",
    "rho_1 = 0.03;       # question 2b non-linear wave propagation\n",
    "rho_o = 1          # zeroth order density\n",
    "def pdeTest(x, y):\n",
    "    dy_xx = dde.grad.hessian(y, x)\n",
    "    return dy_xx - const*(rho_1 * tf.cos(2*np.pi*x/lam))"
   ]
  },
  {
   "cell_type": "code",
   "execution_count": null,
   "metadata": {},
   "outputs": [],
   "source": [
    "## The Geometric Domain\n",
    "xmin = -1\n",
    "xmax = xmin + lam * num_of_waves\n",
    "geom = dde.geometry.Interval(xmin, xmax)\n",
    "# geom = dde.geometry.Interval(-1, 1)\n",
    "\n",
    "\n",
    "## Boundaries\n",
    "\n",
    "## Note in the deep XDE code by default for the periodic boundary u(0) = u(1)\n",
    "## If the problem is periodic this condition will also satisfy u(-1) = u(1)\n",
    "## Thus is most cases the left boundary is not needed. But we have the option here\n",
    "\n",
    "def boundary_l(x, on_boundary):  # boundary x=-1 or x = 0\n",
    "    if xmin == -1:\n",
    "        is_on_boundary_left = on_boundary and np.isclose(x[0], xmin)\n",
    "    else:\n",
    "        is_on_boundary_left = on_boundary and np.isclose(x[0], 0)\n",
    "    return is_on_boundary_left\n",
    "\n",
    "def boundary_r(x, on_boundary):  # boundary x=1\n",
    "    is_on_boundary_right = on_boundary and np.isclose(x[0], xmax)\n",
    "\n",
    "    return is_on_boundary_right\n",
    "\n",
    "\n",
    "bc_l = dde.icbc.PeriodicBC(geom, 0, boundary_l,derivative_order=0) ## may be used when x = [-1,1] otherwise for x =[0,1] not needed\n",
    "bc_r = dde.icbc.PeriodicBC(geom, 0, boundary_r,derivative_order=0)\n",
    "\n",
    "## 1st order terms\n",
    "\n",
    "bc_ll = dde.icbc.PeriodicBC(geom, 0, boundary_l,derivative_order=1) ##may be used when x = [-1,1]\n",
    "bc_rr = dde.icbc.PeriodicBC(geom, 0, boundary_r,derivative_order=1)\n",
    "\n",
    "data = dde.data.TimePDE(geom,\n",
    "                     pdeTest,\n",
    "#                      [bc_l,bc_r,bc_ll,bc_rr], ## This is needed if one need to force periodicity on the left\n",
    "                     [bc_r,bc_rr],          ## For x =[0,1] and default\n",
    "                     num_domain=10000,\n",
    "                     num_boundary=5000\n",
    "                     #num_initial=5000,\n",
    "                    # num_test=10000,\n",
    "                   )\n",
    "\n",
    "net = dde.nn.FNN([1] + [32] * 3 + [1], \"sin\", \"Glorot normal\")\n",
    "model_test = dde.Model(data, net)\n",
    "\n",
    "model_test.compile(\"adam\", lr=1e-3)\n",
    "model_test.train(iterations=3000)\n",
    "model_test.compile(\"L-BFGS\")\n",
    "\n",
    "\n",
    "losshistory, train_state = model_test.train()\n",
    "dde.saveplot(losshistory, train_state, issave=True, isplot=True)"
   ]
  },
  {
   "cell_type": "code",
   "execution_count": null,
   "metadata": {},
   "outputs": [],
   "source": [
    "X = np.linspace(xmin,xmax,1000).reshape(1000, 1)\n",
    "output_0 = model_test.predict(X)\n",
    "plt.plot(X,output_0,label=\"PINNs\")\n",
    "plt.ylabel(r\"$\\phi$\")\n",
    "plt.xlabel(\"x\")\n",
    "plt.legend()"
   ]
  },
  {
   "cell_type": "markdown",
   "metadata": {},
   "source": [
    "Now for the classic interpretation:"
   ]
  },
  {
   "cell_type": "code",
   "execution_count": null,
   "metadata": {},
   "outputs": [],
   "source": [
    "def fft_solver(rho,Lx,N, dim = None):\n",
    "\n",
    "    '''\n",
    "    A FFT solver that uses discrete Fast Fourier Transform to\n",
    "    solve the poisson Equation:\n",
    "    We apply the correction due to the finite difference grid of phi\n",
    "\n",
    "    Input: 1. The source function: density in this case\n",
    "           2. # of grid point N\n",
    "           3. Domain Size in each dimension\n",
    "\n",
    "    Output: the potential phi and the field g\n",
    "\n",
    "    '''\n",
    "    nx = N\n",
    "    Lx = Lx\n",
    "\n",
    "    dx = Lx / nx\n",
    "\n",
    "\n",
    "    # Calculate the Fourier modes of the gas density\n",
    "    rhohat = fft(rho)\n",
    "\n",
    "    # Calculate the wave numbers in x and y directions\n",
    "    kx = 2 * np.pi * np.fft.fftfreq(nx, dx)\n",
    "    #ky = 2 * np.pi * np.fft.fftfreq(ny, dy)\n",
    "\n",
    "    # Construct the Laplacian operator in Fourier space\n",
    "    kx2 = np.meshgrid(kx**2)\n",
    "\n",
    "#     laplace = -(kx**2 )\n",
    "    ## Laplace with the correction refer to the notes\n",
    "    laplace = 2*(np.cos(kx*dx)-1)\n",
    "\n",
    "    ## Inorder to avoid the inf we replace zero with a small number\n",
    "    laplace[laplace == 0] = 1e-16\n",
    "\n",
    "    # Solve for the gravitationa potential in Fourier space\n",
    "    phihat = rhohat / laplace\n",
    "\n",
    "    phihat = rhohat * dx**2/laplace\n",
    "#     window = signal.windows.tukey(len(phihat),alpha=0.25)\n",
    "\n",
    "\n",
    "    # Transform back to real space to obtain the solution\n",
    "#     phi = np.real(ifft(phihat*window))\n",
    "    phi = np.real(ifft(phihat))\n",
    "\n",
    "    ## The field ,i.e., gravity\n",
    "    dphidx = np.gradient(phi, dx)\n",
    "\n",
    "    return phi,dphidx"
   ]
  },
  {
   "cell_type": "code",
   "execution_count": null,
   "metadata": {},
   "outputs": [],
   "source": [
    "from numpy.fft import fft, ifft\n",
    "from scipy import signal\n",
    "L = lam * num_of_waves\n",
    "N = 1000\n",
    "x = np.linspace(0, L, N)\n",
    "rho = rho_1 * np.cos(2*np.pi*x/lam)\n",
    "\n",
    "phi, dpidx  = fft_solver(const*(rho),L,N, dim = None)\n",
    "plt.plot(x,phi,label=\"FFT\")\n",
    "plt.ylabel(r\"$\\phi$\")\n",
    "plt.xlabel(\"x\")\n",
    "plt.legend()"
   ]
  }
 ],
 "metadata": {
  "kernelspec": {
   "display_name": "Python 3",
   "language": "python",
   "name": "python3"
  },
  "language_info": {
   "codemirror_mode": {
    "name": "ipython",
    "version": 3
   },
   "file_extension": ".py",
   "mimetype": "text/x-python",
   "name": "python",
   "nbconvert_exporter": "python",
   "pygments_lexer": "ipython3",
   "version": "3.9.13"
  }
 },
 "nbformat": 4,
 "nbformat_minor": 2
}
